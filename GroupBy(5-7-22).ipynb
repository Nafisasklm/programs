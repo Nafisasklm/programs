{
 "cells": [
  {
   "cell_type": "markdown",
   "id": "2db7be91",
   "metadata": {},
   "source": [
    "# GroupBy"
   ]
  },
  {
   "cell_type": "code",
   "execution_count": 1,
   "id": "68e7c85a",
   "metadata": {},
   "outputs": [
    {
     "data": {
      "text/html": [
       "<div>\n",
       "<style scoped>\n",
       "    .dataframe tbody tr th:only-of-type {\n",
       "        vertical-align: middle;\n",
       "    }\n",
       "\n",
       "    .dataframe tbody tr th {\n",
       "        vertical-align: top;\n",
       "    }\n",
       "\n",
       "    .dataframe thead th {\n",
       "        text-align: right;\n",
       "    }\n",
       "</style>\n",
       "<table border=\"1\" class=\"dataframe\">\n",
       "  <thead>\n",
       "    <tr style=\"text-align: right;\">\n",
       "      <th></th>\n",
       "      <th>Name</th>\n",
       "      <th>Age</th>\n",
       "      <th>Salary</th>\n",
       "      <th>Dept</th>\n",
       "      <th>Gender</th>\n",
       "    </tr>\n",
       "  </thead>\n",
       "  <tbody>\n",
       "    <tr>\n",
       "      <th>0</th>\n",
       "      <td>abc</td>\n",
       "      <td>10</td>\n",
       "      <td>1000</td>\n",
       "      <td>cse</td>\n",
       "      <td>m</td>\n",
       "    </tr>\n",
       "    <tr>\n",
       "      <th>1</th>\n",
       "      <td>xyz</td>\n",
       "      <td>12</td>\n",
       "      <td>12000</td>\n",
       "      <td>cse</td>\n",
       "      <td>f</td>\n",
       "    </tr>\n",
       "    <tr>\n",
       "      <th>2</th>\n",
       "      <td>pqr</td>\n",
       "      <td>20</td>\n",
       "      <td>18000</td>\n",
       "      <td>ece</td>\n",
       "      <td>f</td>\n",
       "    </tr>\n",
       "    <tr>\n",
       "      <th>3</th>\n",
       "      <td>mno</td>\n",
       "      <td>28</td>\n",
       "      <td>5000</td>\n",
       "      <td>ece</td>\n",
       "      <td>m</td>\n",
       "    </tr>\n",
       "    <tr>\n",
       "      <th>4</th>\n",
       "      <td>pnr</td>\n",
       "      <td>40</td>\n",
       "      <td>20000</td>\n",
       "      <td>cse</td>\n",
       "      <td>f</td>\n",
       "    </tr>\n",
       "  </tbody>\n",
       "</table>\n",
       "</div>"
      ],
      "text/plain": [
       "  Name  Age  Salary Dept Gender\n",
       "0  abc   10    1000  cse      m\n",
       "1  xyz   12   12000  cse      f\n",
       "2  pqr   20   18000  ece      f\n",
       "3  mno   28    5000  ece      m\n",
       "4  pnr   40   20000  cse      f"
      ]
     },
     "execution_count": 1,
     "metadata": {},
     "output_type": "execute_result"
    }
   ],
   "source": [
    "import pandas as pd\n",
    "df=pd.read_csv(\"sample.csv\")\n",
    "df"
   ]
  },
  {
   "cell_type": "code",
   "execution_count": 2,
   "id": "42767ae4",
   "metadata": {},
   "outputs": [
    {
     "name": "stdout",
     "output_type": "stream",
     "text": [
      "<pandas.core.groupby.generic.DataFrameGroupBy object at 0x00000246A3CE75E0>\n"
     ]
    }
   ],
   "source": [
    "print(df.groupby([\"Gender\"]))"
   ]
  },
  {
   "cell_type": "code",
   "execution_count": 3,
   "id": "9d1a2f1f",
   "metadata": {},
   "outputs": [
    {
     "name": "stdout",
     "output_type": "stream",
     "text": [
      "{('f', 'cse'): [1, 4], ('f', 'ece'): [2], ('m', 'cse'): [0], ('m', 'ece'): [3]}\n"
     ]
    }
   ],
   "source": [
    "a=df.groupby([\"Gender\",\"Dept\"])\n",
    "print(a.groups)"
   ]
  },
  {
   "cell_type": "code",
   "execution_count": 14,
   "id": "baa70e73",
   "metadata": {},
   "outputs": [
    {
     "name": "stdout",
     "output_type": "stream",
     "text": [
      "     Name  Age  Salary Gender\n",
      "Dept                         \n",
      "cse   xyz   40   20000      m\n",
      "ece   pqr   28   18000      m\n"
     ]
    }
   ],
   "source": [
    "print(df.groupby([\"Dept\"]).max())"
   ]
  },
  {
   "cell_type": "code",
   "execution_count": 7,
   "id": "4a5dd45e",
   "metadata": {},
   "outputs": [
    {
     "name": "stdout",
     "output_type": "stream",
     "text": [
      "{('cse', 'f'): [1, 4], ('cse', 'm'): [0], ('ece', 'f'): [2], ('ece', 'm'): [3]}\n"
     ]
    }
   ],
   "source": [
    "a=df.groupby([\"Dept\",\"Gender\"])\n",
    "print(a.groups)"
   ]
  },
  {
   "cell_type": "code",
   "execution_count": 8,
   "id": "c3514a69",
   "metadata": {},
   "outputs": [
    {
     "name": "stdout",
     "output_type": "stream",
     "text": [
      "{'cse': [0, 1, 4], 'ece': [2, 3]}\n"
     ]
    }
   ],
   "source": [
    "print(df.groupby([\"Dept\"]).groups)"
   ]
  },
  {
   "cell_type": "code",
   "execution_count": 9,
   "id": "b683f155",
   "metadata": {},
   "outputs": [
    {
     "name": "stdout",
     "output_type": "stream",
     "text": [
      "{'f': [1, 2, 4], 'm': [0, 3]}\n"
     ]
    }
   ],
   "source": [
    "print(df.groupby([\"Gender\"]).groups)"
   ]
  },
  {
   "cell_type": "code",
   "execution_count": 10,
   "id": "3823005a",
   "metadata": {},
   "outputs": [
    {
     "name": "stdout",
     "output_type": "stream",
     "text": [
      "  Name  Age  Salary Dept Gender\n",
      "0  abc   10    1000  cse      m\n",
      "3  mno   28    5000  ece      m\n"
     ]
    }
   ],
   "source": [
    "g=df.groupby([\"Gender\"])\n",
    "print(g.get_group(\"m\"))"
   ]
  },
  {
   "cell_type": "code",
   "execution_count": 11,
   "id": "90cc8d6a",
   "metadata": {},
   "outputs": [
    {
     "data": {
      "text/plain": [
       "f    3\n",
       "m    2\n",
       "Name: Gender, dtype: int64"
      ]
     },
     "execution_count": 11,
     "metadata": {},
     "output_type": "execute_result"
    }
   ],
   "source": [
    "df[\"Gender\"].value_counts()"
   ]
  },
  {
   "cell_type": "code",
   "execution_count": null,
   "id": "b2d04c45",
   "metadata": {},
   "outputs": [],
   "source": []
  }
 ],
 "metadata": {
  "kernelspec": {
   "display_name": "Python 3 (ipykernel)",
   "language": "python",
   "name": "python3"
  },
  "language_info": {
   "codemirror_mode": {
    "name": "ipython",
    "version": 3
   },
   "file_extension": ".py",
   "mimetype": "text/x-python",
   "name": "python",
   "nbconvert_exporter": "python",
   "pygments_lexer": "ipython3",
   "version": "3.9.7"
  }
 },
 "nbformat": 4,
 "nbformat_minor": 5
}
